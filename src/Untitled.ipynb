{
 "cells": [
  {
   "cell_type": "code",
   "execution_count": 33,
   "id": "ffe0ecc1",
   "metadata": {},
   "outputs": [],
   "source": [
    "n = min(6,9)"
   ]
  },
  {
   "cell_type": "code",
   "execution_count": 54,
   "id": "c1e44295",
   "metadata": {},
   "outputs": [
    {
     "name": "stdout",
     "output_type": "stream",
     "text": [
      "[1, 3, 5, 7, 9, 11, 13, 15, 17, 19]\n"
     ]
    }
   ],
   "source": [
    "stack = [i*2+1 for i in range(10)]\n",
    "print(stack)"
   ]
  },
  {
   "cell_type": "code",
   "execution_count": 55,
   "id": "a7839a94",
   "metadata": {},
   "outputs": [],
   "source": [
    "minibatch=stack[:n]"
   ]
  },
  {
   "cell_type": "code",
   "execution_count": 56,
   "id": "97cf4bfa",
   "metadata": {},
   "outputs": [
    {
     "data": {
      "text/plain": [
       "[1, 3, 5, 7, 9, 11]"
      ]
     },
     "execution_count": 56,
     "metadata": {},
     "output_type": "execute_result"
    }
   ],
   "source": [
    "minibatch"
   ]
  },
  {
   "cell_type": "code",
   "execution_count": 58,
   "id": "e2aace96",
   "metadata": {},
   "outputs": [
    {
     "name": "stdout",
     "output_type": "stream",
     "text": [
      "[1, 3, 5, 7, 9, 11]\n"
     ]
    }
   ],
   "source": [
    "b=3\n",
    "mx=minibatch.copy()\n",
    "print(mx)"
   ]
  },
  {
   "cell_type": "code",
   "execution_count": 59,
   "id": "4078318d",
   "metadata": {},
   "outputs": [
    {
     "name": "stdout",
     "output_type": "stream",
     "text": [
      "1\n",
      "3\n",
      "5\n"
     ]
    }
   ],
   "source": [
    "for indx in range(b):\n",
    "   print(mx.pop(0))"
   ]
  },
  {
   "cell_type": "code",
   "execution_count": 60,
   "id": "34cabe96",
   "metadata": {},
   "outputs": [
    {
     "name": "stdout",
     "output_type": "stream",
     "text": [
      "[7, 9, 11]\n"
     ]
    }
   ],
   "source": [
    "print(mx)\n"
   ]
  },
  {
   "cell_type": "code",
   "execution_count": 61,
   "id": "41ee9750",
   "metadata": {},
   "outputs": [
    {
     "name": "stdout",
     "output_type": "stream",
     "text": [
      "[1, 3, 5, 7, 9, 11]\n"
     ]
    }
   ],
   "source": [
    "print(minibatch)"
   ]
  },
  {
   "cell_type": "code",
   "execution_count": 27,
   "id": "03115cd6",
   "metadata": {},
   "outputs": [
    {
     "name": "stdout",
     "output_type": "stream",
     "text": [
      "0\n",
      "1\n"
     ]
    }
   ],
   "source": [
    "for i in range(len(minibatch)):\n",
    "    print(i)"
   ]
  },
  {
   "cell_type": "code",
   "execution_count": 30,
   "id": "f6a77a09",
   "metadata": {},
   "outputs": [
    {
     "name": "stdout",
     "output_type": "stream",
     "text": [
      "index= 0 partial_parse=1\n",
      "index= 1 partial_parse=3\n"
     ]
    }
   ],
   "source": [
    "for indx, partial_parse in enumerate(minibatch):\n",
    "    print(f'index= {indx} partial_parse={partial_parse}')\n",
    "    "
   ]
  },
  {
   "cell_type": "code",
   "execution_count": 32,
   "id": "4a127ef5",
   "metadata": {},
   "outputs": [],
   "source": [
    "n = len(minibatch)"
   ]
  },
  {
   "cell_type": "code",
   "execution_count": 48,
   "id": "1dc20d4f",
   "metadata": {},
   "outputs": [],
   "source": [
    "m2 = list()"
   ]
  },
  {
   "cell_type": "code",
   "execution_count": null,
   "id": "60dbf0d0",
   "metadata": {},
   "outputs": [],
   "source": []
  }
 ],
 "metadata": {
  "kernelspec": {
   "display_name": "XCS224N",
   "language": "python",
   "name": "xcs224n"
  },
  "language_info": {
   "codemirror_mode": {
    "name": "ipython",
    "version": 3
   },
   "file_extension": ".py",
   "mimetype": "text/x-python",
   "name": "python",
   "nbconvert_exporter": "python",
   "pygments_lexer": "ipython3",
   "version": "3.8.18"
  }
 },
 "nbformat": 4,
 "nbformat_minor": 5
}
