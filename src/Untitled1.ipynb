{
 "cells": [
  {
   "cell_type": "code",
   "execution_count": null,
   "id": "b431cd1a",
   "metadata": {},
   "outputs": [],
   "source": [
    "import torch.nn as nn\n",
    "m = nn.Linear(20, 30)\n",
    "input = torch.randn(128, 20)\n",
    "output = m(input)\n",
    "print(output.size())"
   ]
  },
  {
   "cell_type": "code",
   "execution_count": null,
   "id": "64849152",
   "metadata": {},
   "outputs": [],
   "source": [
    "import torch.nn as nn\n",
    "m= nn.Linear(20,30)"
   ]
  },
  {
   "cell_type": "code",
   "execution_count": null,
   "id": "a576e950",
   "metadata": {},
   "outputs": [],
   "source": [
    "import torch\n",
    "\n",
    "# Create a tensor\n",
    "tensor = torch.randn(3, 4, 5)  # Example tensor of size (3, 4, 5)\n",
    "\n",
    "# Get the size of the tensor using .shape\n",
    "tensor_shape = tensor.shape\n",
    "print(\"Shape of the tensor:\", tensor_shape)  # Outputs: torch.Size([3, 4, 5])\n"
   ]
  },
  {
   "cell_type": "code",
   "execution_count": null,
   "id": "7aed83ee",
   "metadata": {},
   "outputs": [],
   "source": []
  }
 ],
 "metadata": {
  "kernelspec": {
   "display_name": "XCS224N",
   "language": "python",
   "name": "xcs224n"
  },
  "language_info": {
   "codemirror_mode": {
    "name": "ipython",
    "version": 3
   },
   "file_extension": ".py",
   "mimetype": "text/x-python",
   "name": "python",
   "nbconvert_exporter": "python",
   "pygments_lexer": "ipython3",
   "version": "3.8.18"
  }
 },
 "nbformat": 4,
 "nbformat_minor": 5
}
